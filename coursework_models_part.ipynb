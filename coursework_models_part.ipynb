{
  "nbformat": 4,
  "nbformat_minor": 0,
  "metadata": {
    "colab": {
      "provenance": [],
      "collapsed_sections": [
        "TqNs0RRYUBRx",
        "N_5n5-w7CUqn"
      ],
      "gpuType": "T4",
      "authorship_tag": "ABX9TyOrYFNyaDb2snbIhQHBFUe/"
    },
    "kernelspec": {
      "name": "python3",
      "display_name": "Python 3"
    },
    "language_info": {
      "name": "python"
    },
    "accelerator": "GPU"
  },
  "cells": [
    {
      "cell_type": "markdown",
      "source": [
        "# План\n",
        "\n",
        "1. Построить простую нейросеть для теста\n",
        "2. Построить нейросеть с архитектурой VGGNet-16\n",
        "Для каждого из вариантов:\n",
        "  1. Обучить на базовом датасете cifar\n",
        "  2. Обучить на собраном датасете со статистическимми графиками распределений\n",
        "3. Визуализировать процесс обучения\n",
        "4. Научиться логировать процессы\n",
        "5. Написать свой DataLoader [опционально]\n",
        "6. Реализовать аугментацию данных\n",
        "7. Сравнить на каких аугментациях модель обучилась классифицировать типы графиков распределений лучше всего\n",
        "8. Проанализировать результаты и сделать выводы\n",
        "\n",
        "\n",
        "\n"
      ],
      "metadata": {
        "id": "vEDpg0zx6keW"
      }
    },
    {
      "cell_type": "markdown",
      "source": [
        "# Код"
      ],
      "metadata": {
        "id": "TkTtvSE09a3E"
      }
    },
    {
      "cell_type": "markdown",
      "source": [
        "## База"
      ],
      "metadata": {
        "id": "UdSvO_fK9e5C"
      }
    },
    {
      "cell_type": "code",
      "source": [
        "# избавляемся от полотна ошибок\n",
        "import warnings\n",
        "warnings.filterwarnings(\"ignore\")\n",
        "\n",
        "# основные библиотеки для построения моделей\n",
        "import numpy as np\n",
        "import torch\n",
        "import torchvision\n",
        "from torch import nn, optim\n",
        "import torch.nn.functional as F\n",
        "from torchvision import transforms as T\n",
        "\n",
        "# библиотеки для визуализации\n",
        "import matplotlib.pyplot as plt\n",
        "import seaborn as sns\n",
        "from IPython.display import clear_output\n",
        "from tqdm import tqdm\n",
        "\n",
        "sns.set_style('whitegrid')\n",
        "plt.rcParams.update({'font.size': 15})"
      ],
      "metadata": {
        "id": "jBvZYBHA9eIM"
      },
      "execution_count": 40,
      "outputs": []
    },
    {
      "cell_type": "code",
      "source": [
        "# обучение модели будет происходить на gpu\n",
        "device = ('cuda' if torch.cuda.is_available() else 'cpu')"
      ],
      "metadata": {
        "id": "C6avBf61-uli"
      },
      "execution_count": 41,
      "outputs": []
    },
    {
      "cell_type": "markdown",
      "source": [
        "## Предобработка изображений"
      ],
      "metadata": {
        "id": "aKIiBHXR_Nnw"
      }
    },
    {
      "cell_type": "code",
      "source": [
        "# преобразования над входными изображениями\n",
        "transform = T.Compose({\n",
        "    T.ToTensor(),\n",
        "    T.Resize((8, 8))\n",
        "})\n",
        "# загружаем тестовый датасет\n",
        "train_data = torchvision.datasets.CIFAR10(\n",
        "    './cifar', train=True, download=True, transform=transform\n",
        ")\n",
        "# загружаем валидационный датасет\n",
        "val_data = torchvision.datasets.CIFAR10(\n",
        "    './cifar', train=False, download=True, transform=transform\n",
        ")\n",
        "# даталоадер для обучения\n",
        "train_loader = torch.utils.data.DataLoader(\n",
        "    train_data, batch_size=32, shuffle=True\n",
        ")\n",
        "# даталоадер для валидации\n",
        "val_loader = torch.utils.data.DataLoader(\n",
        "    val_data, batch_size=32, shuffle=False\n",
        ")"
      ],
      "metadata": {
        "colab": {
          "base_uri": "https://localhost:8080/"
        },
        "id": "pi0QbK7U_UnD",
        "outputId": "0cc4de02-1948-4e03-cd23-a9f8c53b3adf"
      },
      "execution_count": 42,
      "outputs": [
        {
          "output_type": "stream",
          "name": "stdout",
          "text": [
            "Files already downloaded and verified\n",
            "Files already downloaded and verified\n"
          ]
        }
      ]
    },
    {
      "cell_type": "markdown",
      "source": [
        "## Аугментации"
      ],
      "metadata": {
        "id": "TqNs0RRYUBRx"
      }
    },
    {
      "cell_type": "markdown",
      "source": [
        "## Модели"
      ],
      "metadata": {
        "id": "N_5n5-w7CUqn"
      }
    },
    {
      "cell_type": "markdown",
      "source": [
        "## Основная модель"
      ],
      "metadata": {
        "id": "k-9Y_iNM3Hnj"
      }
    },
    {
      "cell_type": "code",
      "source": [
        "class LokiNet(nn.Module):\n",
        "    def __init__(self, img_channels=3, num_classes=10):\n",
        "        super().__init__()\n",
        "        # обычно эту часть называют «тушкой модели»\n",
        "        self.encoder = nn.Sequential(\n",
        "            # первый свёрточный слой\n",
        "            nn.Conv2d(in_channels=img_channels, out_channels=64, kernel_size=(3, 3), stride=(1, 1), padding=(1, 1)),\n",
        "            # экскурс: stride - шаг, с которым прикладываем ядро свёртки\n",
        "            # паддинг - размер доп обрамления (чтобы учитывать края изображения при свёртке)\n",
        "            # функция активации\n",
        "            nn.ReLU(),\n",
        "\n",
        "            nn.Conv2d(in_channels=64, out_channels=64, kernel_size=(3, 3), stride=(1, 1), padding=(1, 1)),\n",
        "            nn.ReLU(),\n",
        "            # ещё одна техника, фактически проходимя матричкой 2x2 и берём максимум, делаем с шагом stride\n",
        "            nn.MaxPool2d(kernel_size=2, stride=2, padding=0),\n",
        "\n",
        "            nn.Conv2d(in_channels=64, out_channels=128, kernel_size=(3, 3), stride=(1, 1), padding=(1, 1)),\n",
        "            nn.ReLU(),\n",
        "\n",
        "            nn.Conv2d(in_channels=128, out_channels=128, kernel_size=(3, 3), stride=(1, 1), padding=(1, 1)),\n",
        "            nn.ReLU(),\n",
        "            nn.MaxPool2d(kernel_size=2, stride=2, padding=0),\n",
        "\n",
        "            nn.Conv2d(in_channels=128, out_channels=256, kernel_size=(3, 3), stride=(1, 1), padding=(1, 1)),\n",
        "            nn.ReLU(),\n",
        "\n",
        "            nn.Conv2d(in_channels=256, out_channels=256, kernel_size=(3, 3), stride=(1, 1), padding=(1, 1)),\n",
        "            nn.ReLU(),\n",
        "\n",
        "            nn.Conv2d(in_channels=256, out_channels=256, kernel_size=(3, 3), stride=(1, 1), padding=(1, 1)),\n",
        "            nn.ReLU(),\n",
        "            nn.MaxPool2d(kernel_size=2, stride=2, padding=0),\n",
        "\n",
        "            nn.Conv2d(in_channels=256, out_channels=512, kernel_size=(3, 3), stride=(1, 1), padding=(1, 1)),\n",
        "            nn.ReLU(),\n",
        "\n",
        "            nn.Conv2d(in_channels=512, out_channels=512, kernel_size=(3, 3), stride=(1, 1), padding=(1, 1)),\n",
        "            nn.ReLU(),\n",
        "\n",
        "            nn.Conv2d(in_channels=512, out_channels=512, kernel_size=(3, 3), stride=(1, 1), padding=(1, 1)),\n",
        "            nn.ReLU(),\n",
        "            nn.MaxPool2d(kernel_size=2, stride=2, padding=0),\n",
        "\n",
        "            nn.Conv2d(in_channels=512, out_channels=512, kernel_size=(3, 3), stride=(1, 1), padding=(1, 1)),\n",
        "            nn.ReLU(),\n",
        "\n",
        "            nn.Conv2d(in_channels=512, out_channels=512, kernel_size=(3, 3), stride=(1, 1), padding=(1, 1)),\n",
        "            nn.ReLU(),\n",
        "\n",
        "            nn.Conv2d(in_channels=512, out_channels=512, kernel_size=(3, 3), stride=(1, 1), padding=(1, 1)),\n",
        "            nn.ReLU(),\n",
        "            nn.MaxPool2d(kernel_size=2, stride=2, padding=0),\n",
        "        )\n",
        "        # обычно называют «головой», тк это полносвязные сети, которые могут уловить больше необходимой информации\n",
        "        self.head = nn.Sequential(\n",
        "            # полносвязный слой\n",
        "            nn.Linear(in_features=25088, out_features=4096),\n",
        "            nn.ReLU(),\n",
        "            # dropout механизм «выкидывания» нейронов из сетки с вероятностью p\n",
        "            nn.Dropout(p=0.5),\n",
        "\n",
        "            nn.Linear(in_features=4096, out_features=4096),\n",
        "            nn.ReLU(),\n",
        "            nn.Dropout(p=0.5),\n",
        "\n",
        "            nn.Linear(in_features=4096, out_features=num_classes)\n",
        "        )\n",
        "\n",
        "    def forward(self, x):\n",
        "        out = self.encoder(x)\n",
        "        # растягиваем матричку в вектор\n",
        "        out = nn.Flatten()(out)\n",
        "        out = self.head(out)\n",
        "        return out"
      ],
      "metadata": {
        "id": "Y0Q_LfQUDqwg"
      },
      "execution_count": 43,
      "outputs": []
    },
    {
      "cell_type": "markdown",
      "source": [
        "## Тестовая модель"
      ],
      "metadata": {
        "id": "jJzuDAQ43MIB"
      }
    },
    {
      "cell_type": "code",
      "source": [
        "class smallNet(nn.Module):\n",
        "    def __init__(self, img_channels=3, num_classes=10):\n",
        "        super().__init__()\n",
        "        self.encoder = nn.Sequential(\n",
        "            nn.Conv2d(in_channels=img_channels, out_channels=16, kernel_size=(3, 3), stride=(1, 1), padding=(1, 1)),\n",
        "            nn.ReLU(),\n",
        "            nn.Conv2d(in_channels=16, out_channels=16, kernel_size=(3, 3), stride=(1, 1), padding=(1, 1)),\n",
        "            nn.MaxPool2d(kernel_size=2, stride=2, padding=0),\n",
        "            nn.ReLU(),\n",
        "        )\n",
        "        self.head = nn.Sequential(\n",
        "            nn.Linear(in_features=256, out_features=128),\n",
        "            nn.ReLU(),\n",
        "            nn.Linear(in_features=128, out_features=num_classes),\n",
        "        )\n",
        "\n",
        "    def forward(self, x):\n",
        "        # print(x.shape)\n",
        "        out = self.encoder(x)\n",
        "        # print(out.shape)\n",
        "        out = nn.Flatten()(out)\n",
        "        # print(out.shape)\n",
        "        out = self.head(out)\n",
        "        return out"
      ],
      "metadata": {
        "id": "VC5FjQVTz3TG"
      },
      "execution_count": 44,
      "outputs": []
    },
    {
      "cell_type": "markdown",
      "source": [
        "## Визуализация"
      ],
      "metadata": {
        "id": "OdLmIgAkT7D-"
      }
    },
    {
      "cell_type": "code",
      "source": [
        "def plot_logs(train_accuracies, test_accuracies, train_losses, test_losses):\n",
        "  clear_output()\n",
        "  fig, axs = plt.subplots(1, 2, figsize=(13, 4))\n",
        "\n",
        "  axs[1].plot(train_accuracies, label='train')\n",
        "  points = np.array(test_accuracies)\n",
        "  axs[1].scatter(points[:, 0], points[:, 1], marker='+', s=180, c='orange', label='val', zorder=2)\n",
        "  axs[1].set_ylabel('accuracy')\n",
        "\n",
        "  axs[0].plot(train_losses, label='train')\n",
        "  points = np.array(test_losses)\n",
        "  axs[0].scatter(points[:, 0], points[:, 1], marker='+', s=180, c='orange', label='val', zorder=2)\n",
        "  axs[0].set_ylabel('loss')\n",
        "\n",
        "  for ax in axs:\n",
        "      ax.set_xlabel('step')\n",
        "      ax.legend()\n",
        "\n",
        "  plt.show()"
      ],
      "metadata": {
        "id": "gtT55qnB_Q1b"
      },
      "execution_count": 45,
      "outputs": []
    },
    {
      "cell_type": "markdown",
      "source": [
        "## Обучение и тест"
      ],
      "metadata": {
        "id": "j1sIveRZCbkH"
      }
    },
    {
      "cell_type": "markdown",
      "source": [
        "Нейросети обучают эпохами, эпоха -- это один цикл обучения модели на массиве данных"
      ],
      "metadata": {
        "id": "_J4UTlJqDAXj"
      }
    },
    {
      "cell_type": "code",
      "source": [
        "def train_epoch(model, criterion, train_loader, optimizer):\n",
        "    # режим работы модели, нужен хотя бы для dropout, тк в трейне нейроны можно выкидывать, а при предсказании трогать ничего не надо\n",
        "    model.train()\n",
        "\n",
        "    accuracy_log, loss_log = [], []\n",
        "    # x_batch: [32, 3, 224, 224]\n",
        "    # y_batch: [32]\n",
        "    for num_batch, (x_batch, y_batch) in enumerate(train_loader):\n",
        "        # скидываем на gpu\n",
        "        x_batch = x_batch.to(device)\n",
        "        y_batch = y_batch.to(device)\n",
        "\n",
        "        # обнуление градиента, тк он копится при новом взятии производной\n",
        "        optimizer.zero_grad()\n",
        "\n",
        "        # предсказываем вероятности\n",
        "        logits = model(x_batch)\n",
        "\n",
        "        # считаем лосс\n",
        "        loss = criterion(logits, y_batch)\n",
        "        # находим производную\n",
        "        loss.backward()\n",
        "        # делаем шаг градиентного спуска\n",
        "        optimizer.step()\n",
        "\n",
        "        # предсказания\n",
        "        y_pred = torch.max(logits, dim=1)[1].cpu().detach().numpy()\n",
        "        y_true = y_batch.cpu().detach().numpy()\n",
        "\n",
        "        # сохраняем статистику\n",
        "        accuracy_log.append(np.mean(y_pred == y_true))\n",
        "        loss_log.append(loss.item())\n",
        "\n",
        "    return accuracy_log, loss_log"
      ],
      "metadata": {
        "id": "278Mv0iiCkcH"
      },
      "execution_count": 46,
      "outputs": []
    },
    {
      "cell_type": "code",
      "source": [
        "def test(model, criterion, test_loader):\n",
        "    # режим вычислний\n",
        "    model.eval()\n",
        "\n",
        "    accuracy_log, loss_log = [], []\n",
        "    # x_batch: [32, 3, 224, 224]\n",
        "    # y_batch: [32]\n",
        "    for num_batch, (x_batch, y_batch) in enumerate(test_loader):\n",
        "        # скидываем на gpu\n",
        "        x_batch = x_batch.to(device)\n",
        "        y_batch = y_batch.to(device)\n",
        "\n",
        "        # градиент нам тут считать не нужно, не используем при тесте\n",
        "        with torch.no_grad():\n",
        "            # предсказываем вероятности\n",
        "            logits = model(x_batch)\n",
        "            # считаем лосс\n",
        "            loss = criterion(logits, y_batch)\n",
        "\n",
        "        # предсказания\n",
        "        y_pred = torch.max(logits, dim=1)[1].cpu().detach().numpy()\n",
        "        y_true = y_batch.cpu().detach().numpy()\n",
        "\n",
        "        # сохраняем статистику\n",
        "        accuracy_log.append(np.mean(y_pred == y_true))\n",
        "        loss_log.append(loss.item())\n",
        "\n",
        "    return accuracy_log, loss_log"
      ],
      "metadata": {
        "id": "AfJ-kX0Z-bqa"
      },
      "execution_count": 47,
      "outputs": []
    },
    {
      "cell_type": "code",
      "source": [
        "def train(model, criterion, train_loader, val_loader, optimizer, num_epoches, batch_size):\n",
        "    # сохраняем логи для визуализации\n",
        "    train_accuracy_log, train_loss_log = [], []\n",
        "    test_accuracy_log, test_loss_log = [], []\n",
        "\n",
        "    for epoch in range(num_epoches):\n",
        "        train_accuracy, train_loss = train_epoch(model, criterion, train_loader, optimizer)\n",
        "        test_accuracy, test_loss = test(model, criterion, val_loader)\n",
        "\n",
        "        train_accuracy_log.extend(train_accuracy)\n",
        "        train_loss_log.extend(train_loss)\n",
        "\n",
        "        steps = train_loader.dataset.__len__() / batch_size\n",
        "\n",
        "        test_accuracy_log.append((steps * (epoch + 1), np.mean(test_accuracy)))\n",
        "        test_loss_log.append((steps * (epoch + 1), np.mean(test_loss)))\n",
        "\n",
        "        clear_output()\n",
        "        plot_logs(train_accuracy_log, test_accuracy_log, train_loss_log, test_loss_log)\n",
        "\n",
        "    info = {\n",
        "        'train_acc': np.mean(train_accuracy_log),\n",
        "        'test_acc': test_accuracy_log[-1],\n",
        "        'train_loss': np.mean(test_loss_log),\n",
        "        'test_loss': test_loss_log[-1]\n",
        "        }\n",
        "\n",
        "    return info"
      ],
      "metadata": {
        "id": "_GmVbG9CAcur"
      },
      "execution_count": 48,
      "outputs": []
    },
    {
      "cell_type": "markdown",
      "source": [
        "## Тестирование модели"
      ],
      "metadata": {
        "id": "kcau1wLRCew9"
      }
    },
    {
      "cell_type": "code",
      "source": [
        "model = smallNet().to(device)\n",
        "criterion = nn.CrossEntropyLoss()\n",
        "optimizer = torch.optim.Adam(model.parameters())"
      ],
      "metadata": {
        "id": "IdyaSdZg9Q6n"
      },
      "execution_count": 52,
      "outputs": []
    },
    {
      "cell_type": "code",
      "source": [
        "results = train(model, criterion, train_loader, val_loader, optimizer, num_epoches=10, batch_size=32)"
      ],
      "metadata": {
        "colab": {
          "base_uri": "https://localhost:8080/",
          "height": 402
        },
        "collapsed": true,
        "id": "mK67FGHu_z5V",
        "outputId": "ed953999-1d1a-46fa-9703-ce8930b6d22e"
      },
      "execution_count": 54,
      "outputs": [
        {
          "output_type": "display_data",
          "data": {
            "text/plain": [
              "<Figure size 1300x400 with 2 Axes>"
            ],
            "image/png": "[encoded data removed]"
          },
          "metadata": {}
        }
      ]
    },
    {
      "cell_type": "code",
      "source": [],
      "metadata": {
        "id": "wR7XPKe9uoRK"
      },
      "execution_count": null,
      "outputs": []
    }
  ]
}