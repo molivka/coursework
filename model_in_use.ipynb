{
  "nbformat": 4,
  "nbformat_minor": 0,
  "metadata": {
    "colab": {
      "provenance": [],
      "gpuType": "T4",
      "authorship_tag": "ABX9TyPsl9H0qSeDrkb4rTyx8WMB"
    },
    "kernelspec": {
      "name": "python3",
      "display_name": "Python 3"
    },
    "language_info": {
      "name": "python"
    },
    "accelerator": "GPU"
  },
  "cells": [
    {
      "cell_type": "markdown",
      "source": [
        "# Импорт нужных библиотек"
      ],
      "metadata": {
        "id": "diJbm6QxPv11"
      }
    },
    {
      "cell_type": "code",
      "execution_count": 1,
      "metadata": {
        "id": "uwIFa0XkM3tN"
      },
      "outputs": [],
      "source": [
        "# избавляемся от полотна ошибок\n",
        "import warnings\n",
        "warnings.filterwarnings(\"ignore\")\n",
        "\n",
        "# основные библиотеки для построения моделей\n",
        "import pandas as pd\n",
        "import numpy as np\n",
        "import torch\n",
        "import torchvision\n",
        "from torch import nn, optim\n",
        "import torch.nn.functional as F\n",
        "from torchvision import transforms as T\n",
        "\n",
        "# библиотеки для визуализации\n",
        "import matplotlib.pyplot as plt\n",
        "import seaborn as sns\n",
        "from IPython.display import clear_output\n",
        "from tqdm import tqdm\n",
        "from PIL import Image\n",
        "\n",
        "# вспомогательные библиотеки\n",
        "import os\n",
        "import shutil\n",
        "from random import shuffle\n",
        "\n",
        "sns.set_style('whitegrid')\n",
        "plt.rcParams.update({'font.size': 15})"
      ]
    },
    {
      "cell_type": "code",
      "source": [
        "device = ('cuda' if torch.cuda.is_available() else 'cpu')"
      ],
      "metadata": {
        "id": "-HtS6AFzNA_I"
      },
      "execution_count": 2,
      "outputs": []
    },
    {
      "cell_type": "code",
      "source": [
        "device"
      ],
      "metadata": {
        "colab": {
          "base_uri": "https://localhost:8080/",
          "height": 36
        },
        "id": "_qLfe2jrNDHO",
        "outputId": "b5374935-ce9a-46c5-a261-ab7faddccec2"
      },
      "execution_count": 52,
      "outputs": [
        {
          "output_type": "execute_result",
          "data": {
            "text/plain": [
              "'cuda'"
            ],
            "application/vnd.google.colaboratory.intrinsic+json": {
              "type": "string"
            }
          },
          "metadata": {},
          "execution_count": 52
        }
      ]
    },
    {
      "cell_type": "code",
      "source": [
        "from google.colab import drive\n",
        "drive.mount('/content/drive', force_remount=True)"
      ],
      "metadata": {
        "colab": {
          "base_uri": "https://localhost:8080/"
        },
        "id": "YKVVCj-4NHqX",
        "outputId": "11f3e561-fbaf-4774-f279-abdf6be60306"
      },
      "execution_count": 4,
      "outputs": [
        {
          "output_type": "stream",
          "name": "stdout",
          "text": [
            "Mounted at /content/drive\n"
          ]
        }
      ]
    },
    {
      "cell_type": "markdown",
      "source": [
        "# Объявление необходимых классов работы с моделью"
      ],
      "metadata": {
        "id": "1Zq0FpWrNOH4"
      }
    },
    {
      "cell_type": "markdown",
      "source": [
        "## Класс модели"
      ],
      "metadata": {
        "id": "ayAao5zzNbKH"
      }
    },
    {
      "cell_type": "code",
      "source": [
        "class MOLI_Net(nn.Module):\n",
        "    def __init__(self, img_channels=3, num_classes=6):\n",
        "        super().__init__()\n",
        "        # обычно эту часть называют «тушкой модели»\n",
        "        self.encoder = nn.Sequential(\n",
        "            # 1\n",
        "            nn.Conv2d(in_channels=img_channels, out_channels=64, kernel_size=(3, 3), stride=(1, 1), padding=(1, 1)),\n",
        "            nn.BatchNorm2d(64),\n",
        "            # экскурс: stride - шаг, с которым прикладываем ядро свёртки\n",
        "            # паддинг - размер доп обрамления (чтобы учитывать края изображения при свёртке)\n",
        "            # функция активации\n",
        "            nn.ReLU(),\n",
        "            # ещё одна техника, фактически проходимя матричкой 2x2 и берём максимум, делаем с шагом stride\n",
        "            nn.MaxPool2d(kernel_size=2, stride=2, padding=0),\n",
        "\n",
        "            # 2\n",
        "            nn.Conv2d(in_channels=64, out_channels=128, kernel_size=(3, 3), stride=(1, 1), padding=(1, 1)),\n",
        "            nn.BatchNorm2d(128),\n",
        "            nn.ReLU(),\n",
        "            nn.MaxPool2d(kernel_size=2, stride=2, padding=0),\n",
        "\n",
        "            # 3\n",
        "            nn.Conv2d(in_channels=128, out_channels=256, kernel_size=(3, 3), stride=(1, 1), padding=(1, 1)),\n",
        "            nn.BatchNorm2d(256),\n",
        "            nn.ReLU(),\n",
        "\n",
        "            # 4\n",
        "            nn.Conv2d(in_channels=256, out_channels=256, kernel_size=(3, 3), stride=(1, 1), padding=(1, 1)),\n",
        "            nn.BatchNorm2d(256),\n",
        "            nn.ReLU(),\n",
        "            nn.MaxPool2d(kernel_size=2, stride=2, padding=0),\n",
        "\n",
        "            # 5\n",
        "            nn.Conv2d(in_channels=256, out_channels=512, kernel_size=(3, 3), stride=(1, 1), padding=(1, 1)),\n",
        "            nn.BatchNorm2d(512),\n",
        "            nn.ReLU(),\n",
        "\n",
        "            # 6\n",
        "            nn.Conv2d(in_channels=512, out_channels=512, kernel_size=(3, 3), stride=(1, 1), padding=(1, 1)),\n",
        "            nn.BatchNorm2d(512),\n",
        "            nn.ReLU(),\n",
        "            nn.MaxPool2d(kernel_size=2, stride=2, padding=0),\n",
        "\n",
        "            # 7\n",
        "            nn.Conv2d(in_channels=512, out_channels=512, kernel_size=(3, 3), stride=(1, 1), padding=(1, 1)),\n",
        "            nn.BatchNorm2d(512),\n",
        "            nn.ReLU(),\n",
        "\n",
        "            # 8\n",
        "            nn.Conv2d(in_channels=512, out_channels=512, kernel_size=(3, 3), stride=(1, 1), padding=(1, 1)),\n",
        "            nn.BatchNorm2d(512),\n",
        "            nn.ReLU(),\n",
        "            nn.MaxPool2d(kernel_size=2, stride=2, padding=0),\n",
        "        )\n",
        "        # обычно называют «головой», тк это полносвязные сети, которые могут уловить больше необходимой информации\n",
        "        self.head = nn.Sequential(\n",
        "            # полносвязный слой\n",
        "            nn.Linear(in_features=512, out_features=4096),\n",
        "            nn.ReLU(),\n",
        "            # dropout механизм «выкидывания» нейронов из сетки с вероятностью p\n",
        "            nn.Dropout(p=0.5),\n",
        "\n",
        "            nn.Linear(in_features=4096, out_features=4096),\n",
        "            nn.ReLU(),\n",
        "            nn.Dropout(p=0.5),\n",
        "\n",
        "            nn.Linear(in_features=4096, out_features=num_classes)\n",
        "        )\n",
        "\n",
        "    def forward(self, x):\n",
        "        out = self.encoder(x)\n",
        "        # растягиваем матричку в вектор\n",
        "        out = nn.Flatten()(out)\n",
        "        out = self.head(out)\n",
        "        return out"
      ],
      "metadata": {
        "id": "EH8INdDpNMh3"
      },
      "execution_count": 5,
      "outputs": []
    },
    {
      "cell_type": "markdown",
      "source": [
        "## Класс даталоадера"
      ],
      "metadata": {
        "id": "vodsLeJQNd_5"
      }
    },
    {
      "cell_type": "code",
      "source": [
        "for_resize = (32, 32)\n",
        "base_transforms = [T.Resize(for_resize), T.ToTensor()]\n",
        "# пути под данные\n",
        "try_path = '/content/drive/MyDrive/try'\n",
        "\n",
        "# метки для изображений\n",
        "labels = {\n",
        "    'binom': 0,\n",
        "    'geom': 1,\n",
        "    'poisson': 2,\n",
        "    'norm': 3,\n",
        "    'pareto': 4,\n",
        "    'vigner': 5\n",
        "}\n",
        "\n",
        "mir_labels = {\n",
        "    0: 'binom',\n",
        "    1: 'geom',\n",
        "    2: 'poisson',\n",
        "    3: 'norm',\n",
        "    4: 'pareto',\n",
        "    5: 'vigner'\n",
        "}"
      ],
      "metadata": {
        "id": "IBzjgLz2Nz6l"
      },
      "execution_count": 135,
      "outputs": []
    },
    {
      "cell_type": "code",
      "source": [
        "# класс собственного dataset\n",
        "class dataset_statistic(torch.utils.data.Dataset):\n",
        "    def __init__(self, root_dir, transforms=None):\n",
        "        self.root_dir = root_dir\n",
        "        self.transforms = transforms\n",
        "        self.files = os.listdir(self.root_dir)\n",
        "\n",
        "    def __len__(self):\n",
        "        return len(self.files)\n",
        "\n",
        "    def __getitem__(self, index):\n",
        "        img_path = os.path.join(self.root_dir, self.files[index])\n",
        "        image = Image.open(img_path)\n",
        "        label = labels[img_path.split('/')[-1].split('_')[0]]\n",
        "        if self.transforms:\n",
        "            for t in self.transforms:\n",
        "                image = t(image)\n",
        "        return (image, torch.tensor(label))"
      ],
      "metadata": {
        "id": "whORtVTfNg1o"
      },
      "execution_count": 138,
      "outputs": []
    },
    {
      "cell_type": "code",
      "source": [
        "# функция для отрисовки изображения\n",
        "def show_image(data):\n",
        "    img = data[0]\n",
        "    label = data[1].item()\n",
        "    print(mir_labels[label])\n",
        "    plt.grid('off')\n",
        "    plt.axis('off')\n",
        "    plt.imshow(img.permute(1, 2, 0))"
      ],
      "metadata": {
        "id": "nfUnvg-VN0CZ"
      },
      "execution_count": 123,
      "outputs": []
    },
    {
      "cell_type": "markdown",
      "source": [
        "# Скачивание лучшей модели"
      ],
      "metadata": {
        "id": "vzEiowZsPYgS"
      }
    },
    {
      "cell_type": "code",
      "source": [
        "model = MOLI_Net()\n",
        "model.load_state_dict(torch.load('/content/drive/MyDrive/color_model.h5'))\n",
        "model.to(device)"
      ],
      "metadata": {
        "colab": {
          "base_uri": "https://localhost:8080/"
        },
        "collapsed": true,
        "id": "nH6UpUCKPcZi",
        "outputId": "fd3421dd-5338-440a-fdd5-80daa85c3eb6"
      },
      "execution_count": 35,
      "outputs": [
        {
          "output_type": "execute_result",
          "data": {
            "text/plain": [
              "MOLI_Net(\n",
              "  (encoder): Sequential(\n",
              "    (0): Conv2d(3, 64, kernel_size=(3, 3), stride=(1, 1), padding=(1, 1))\n",
              "    (1): BatchNorm2d(64, eps=1e-05, momentum=0.1, affine=True, track_running_stats=True)\n",
              "    (2): ReLU()\n",
              "    (3): MaxPool2d(kernel_size=2, stride=2, padding=0, dilation=1, ceil_mode=False)\n",
              "    (4): Conv2d(64, 128, kernel_size=(3, 3), stride=(1, 1), padding=(1, 1))\n",
              "    (5): BatchNorm2d(128, eps=1e-05, momentum=0.1, affine=True, track_running_stats=True)\n",
              "    (6): ReLU()\n",
              "    (7): MaxPool2d(kernel_size=2, stride=2, padding=0, dilation=1, ceil_mode=False)\n",
              "    (8): Conv2d(128, 256, kernel_size=(3, 3), stride=(1, 1), padding=(1, 1))\n",
              "    (9): BatchNorm2d(256, eps=1e-05, momentum=0.1, affine=True, track_running_stats=True)\n",
              "    (10): ReLU()\n",
              "    (11): Conv2d(256, 256, kernel_size=(3, 3), stride=(1, 1), padding=(1, 1))\n",
              "    (12): BatchNorm2d(256, eps=1e-05, momentum=0.1, affine=True, track_running_stats=True)\n",
              "    (13): ReLU()\n",
              "    (14): MaxPool2d(kernel_size=2, stride=2, padding=0, dilation=1, ceil_mode=False)\n",
              "    (15): Conv2d(256, 512, kernel_size=(3, 3), stride=(1, 1), padding=(1, 1))\n",
              "    (16): BatchNorm2d(512, eps=1e-05, momentum=0.1, affine=True, track_running_stats=True)\n",
              "    (17): ReLU()\n",
              "    (18): Conv2d(512, 512, kernel_size=(3, 3), stride=(1, 1), padding=(1, 1))\n",
              "    (19): BatchNorm2d(512, eps=1e-05, momentum=0.1, affine=True, track_running_stats=True)\n",
              "    (20): ReLU()\n",
              "    (21): MaxPool2d(kernel_size=2, stride=2, padding=0, dilation=1, ceil_mode=False)\n",
              "    (22): Conv2d(512, 512, kernel_size=(3, 3), stride=(1, 1), padding=(1, 1))\n",
              "    (23): BatchNorm2d(512, eps=1e-05, momentum=0.1, affine=True, track_running_stats=True)\n",
              "    (24): ReLU()\n",
              "    (25): Conv2d(512, 512, kernel_size=(3, 3), stride=(1, 1), padding=(1, 1))\n",
              "    (26): BatchNorm2d(512, eps=1e-05, momentum=0.1, affine=True, track_running_stats=True)\n",
              "    (27): ReLU()\n",
              "    (28): MaxPool2d(kernel_size=2, stride=2, padding=0, dilation=1, ceil_mode=False)\n",
              "  )\n",
              "  (head): Sequential(\n",
              "    (0): Linear(in_features=512, out_features=4096, bias=True)\n",
              "    (1): ReLU()\n",
              "    (2): Dropout(p=0.5, inplace=False)\n",
              "    (3): Linear(in_features=4096, out_features=4096, bias=True)\n",
              "    (4): ReLU()\n",
              "    (5): Dropout(p=0.5, inplace=False)\n",
              "    (6): Linear(in_features=4096, out_features=6, bias=True)\n",
              "  )\n",
              ")"
            ]
          },
          "metadata": {},
          "execution_count": 35
        }
      ]
    },
    {
      "cell_type": "markdown",
      "source": [
        "# Формирование набора, для которого хотим предсказывать"
      ],
      "metadata": {
        "id": "a_-PQoICPiJ6"
      }
    },
    {
      "cell_type": "code",
      "source": [
        "try_data = dataset_statistic(try_path, transforms=base_transforms)\n",
        "try_data_loader = torch.utils.data.DataLoader(try_data, batch_size=32, shuffle=False)"
      ],
      "metadata": {
        "id": "Na5v-h5UOR2Y"
      },
      "execution_count": 141,
      "outputs": []
    },
    {
      "cell_type": "markdown",
      "source": [
        "# Сценарий работы\n"
      ],
      "metadata": {
        "id": "bQJkalk5PpUK"
      }
    },
    {
      "cell_type": "code",
      "source": [
        "model.eval()"
      ],
      "metadata": {
        "colab": {
          "base_uri": "https://localhost:8080/"
        },
        "collapsed": true,
        "id": "77A0x135PKu1",
        "outputId": "f57dd7c4-ab2e-466d-9dfc-37fac45692a2"
      },
      "execution_count": 88,
      "outputs": [
        {
          "output_type": "execute_result",
          "data": {
            "text/plain": [
              "MOLI_Net(\n",
              "  (encoder): Sequential(\n",
              "    (0): Conv2d(3, 64, kernel_size=(3, 3), stride=(1, 1), padding=(1, 1))\n",
              "    (1): BatchNorm2d(64, eps=1e-05, momentum=0.1, affine=True, track_running_stats=True)\n",
              "    (2): ReLU()\n",
              "    (3): MaxPool2d(kernel_size=2, stride=2, padding=0, dilation=1, ceil_mode=False)\n",
              "    (4): Conv2d(64, 128, kernel_size=(3, 3), stride=(1, 1), padding=(1, 1))\n",
              "    (5): BatchNorm2d(128, eps=1e-05, momentum=0.1, affine=True, track_running_stats=True)\n",
              "    (6): ReLU()\n",
              "    (7): MaxPool2d(kernel_size=2, stride=2, padding=0, dilation=1, ceil_mode=False)\n",
              "    (8): Conv2d(128, 256, kernel_size=(3, 3), stride=(1, 1), padding=(1, 1))\n",
              "    (9): BatchNorm2d(256, eps=1e-05, momentum=0.1, affine=True, track_running_stats=True)\n",
              "    (10): ReLU()\n",
              "    (11): Conv2d(256, 256, kernel_size=(3, 3), stride=(1, 1), padding=(1, 1))\n",
              "    (12): BatchNorm2d(256, eps=1e-05, momentum=0.1, affine=True, track_running_stats=True)\n",
              "    (13): ReLU()\n",
              "    (14): MaxPool2d(kernel_size=2, stride=2, padding=0, dilation=1, ceil_mode=False)\n",
              "    (15): Conv2d(256, 512, kernel_size=(3, 3), stride=(1, 1), padding=(1, 1))\n",
              "    (16): BatchNorm2d(512, eps=1e-05, momentum=0.1, affine=True, track_running_stats=True)\n",
              "    (17): ReLU()\n",
              "    (18): Conv2d(512, 512, kernel_size=(3, 3), stride=(1, 1), padding=(1, 1))\n",
              "    (19): BatchNorm2d(512, eps=1e-05, momentum=0.1, affine=True, track_running_stats=True)\n",
              "    (20): ReLU()\n",
              "    (21): MaxPool2d(kernel_size=2, stride=2, padding=0, dilation=1, ceil_mode=False)\n",
              "    (22): Conv2d(512, 512, kernel_size=(3, 3), stride=(1, 1), padding=(1, 1))\n",
              "    (23): BatchNorm2d(512, eps=1e-05, momentum=0.1, affine=True, track_running_stats=True)\n",
              "    (24): ReLU()\n",
              "    (25): Conv2d(512, 512, kernel_size=(3, 3), stride=(1, 1), padding=(1, 1))\n",
              "    (26): BatchNorm2d(512, eps=1e-05, momentum=0.1, affine=True, track_running_stats=True)\n",
              "    (27): ReLU()\n",
              "    (28): MaxPool2d(kernel_size=2, stride=2, padding=0, dilation=1, ceil_mode=False)\n",
              "  )\n",
              "  (head): Sequential(\n",
              "    (0): Linear(in_features=512, out_features=4096, bias=True)\n",
              "    (1): ReLU()\n",
              "    (2): Dropout(p=0.5, inplace=False)\n",
              "    (3): Linear(in_features=4096, out_features=4096, bias=True)\n",
              "    (4): ReLU()\n",
              "    (5): Dropout(p=0.5, inplace=False)\n",
              "    (6): Linear(in_features=4096, out_features=6, bias=True)\n",
              "  )\n",
              ")"
            ]
          },
          "metadata": {},
          "execution_count": 88
        }
      ]
    },
    {
      "cell_type": "code",
      "source": [
        "for images, targets in try_data_loader:\n",
        "    # скидываем на gpu\n",
        "    images = images.to(device)\n",
        "    logits = model(images)\n",
        "    target_pred = torch.max(logits, dim=1)[1].cpu().detach().numpy()\n",
        "    targets = targets.cpu().detach().numpy()"
      ],
      "metadata": {
        "id": "TmeishBDOX-T"
      },
      "execution_count": 154,
      "outputs": []
    },
    {
      "cell_type": "code",
      "source": [
        "true_answers = [mir_labels[x] for x in targets]\n",
        "pred_answers = [mir_labels[x] for x in target_pred]"
      ],
      "metadata": {
        "id": "RMBCyNbxYy9n"
      },
      "execution_count": 155,
      "outputs": []
    },
    {
      "cell_type": "markdown",
      "source": [
        "# Функция для получения ответа"
      ],
      "metadata": {
        "id": "WTrW_RQio_9V"
      }
    },
    {
      "cell_type": "code",
      "source": [
        "def give_answers(path):\n",
        "    for_resize = (32, 32)\n",
        "    base_transforms = [T.Resize(for_resize), T.ToTensor()]\n",
        "    data = dataset_statistic(path, transforms=base_transforms)\n",
        "    data_loader = torch.utils.data.DataLoader(try_data, shuffle=False)\n",
        "\n",
        "    model.eval()\n",
        "    for images, targets in try_data_loader:\n",
        "        images = images.to(device)\n",
        "        logits = model(images)\n",
        "        target_pred = torch.max(logits, dim=1)[1].cpu().detach().numpy()\n",
        "        targets = targets.cpu().detach().numpy()\n",
        "\n",
        "    true_answers = [mir_labels[x] for x in targets]\n",
        "    pred_answers = [mir_labels[x] for x in target_pred]\n",
        "\n",
        "    # print(true_answers)\n",
        "    # print(pred_answers)\n",
        "\n",
        "    return pred_answers"
      ],
      "metadata": {
        "id": "aorS7KqEaL03"
      },
      "execution_count": 161,
      "outputs": []
    },
    {
      "cell_type": "code",
      "source": [
        "give_answers('/content/drive/MyDrive/try')"
      ],
      "metadata": {
        "colab": {
          "base_uri": "https://localhost:8080/"
        },
        "id": "8hO-h9cJaec6",
        "outputId": "021365cb-3c9d-4eea-ac8b-00d7c96cf190"
      },
      "execution_count": 162,
      "outputs": [
        {
          "output_type": "execute_result",
          "data": {
            "text/plain": [
              "['vigner', 'geom']"
            ]
          },
          "metadata": {},
          "execution_count": 162
        }
      ]
    }
  ]
}